{
  "nbformat": 4,
  "nbformat_minor": 0,
  "metadata": {
    "colab": {
      "name": "classification_python",
      "provenance": [],
      "collapsed_sections": []
    },
    "kernelspec": {
      "display_name": "Python 3",
      "name": "python3"
    }
  },
  "cells": [
    {
      "cell_type": "markdown",
      "metadata": {
        "colab_type": "text",
        "id": "KcAZ2RHCg_Ze"
      },
      "source": [
        "# Before you begin\n",
        "\n",
        "\n",
        "1.   Use the [Cloud Resource Manager](https://console.cloud.google.com/cloud-resource-manager) to Create a Cloud Platform project if you do not already have one.\n",
        "2.   [Enable billing](https://support.google.com/cloud/answer/6293499#enable-billing) for the project.\n",
        "3.   [Enable BigQuery](https://console.cloud.google.com/flows/enableapi?apiid=bigquery) APIs for the project.\n"
      ]
    },
    {
      "cell_type": "markdown",
      "metadata": {
        "colab_type": "text",
        "id": "qTmLBxDxBAZL"
      },
      "source": [
        "### Provide your credentials to the runtime"
      ]
    },
    {
      "cell_type": "code",
      "execution_count": 1,
      "metadata": {
        "colab": {
          "base_uri": "https://localhost:8080/",
          "height": 34
        },
        "colab_type": "code",
        "id": "SeTJb51SKs_W",
        "outputId": "3c970206-5b08-4534-fe88-c750ae57628e"
      },
      "outputs": [
        {
          "name": "stdout",
          "output_type": "stream",
          "text": [
            "Authenticated\n"
          ]
        }
      ],
      "source": [
        "from google.colab import auth\n",
        "auth.authenticate_user()\n",
        "print('Authenticated')"
      ]
    },
    {
      "cell_type": "markdown",
      "metadata": {
        "colab_type": "text",
        "id": "UMKGkkZEPVRu"
      },
      "source": [
        "## Optional: Enable data table display\n",
        "\n",
        "Colab includes the ``google.colab.data_table`` package that can be used to display large pandas dataframes as an interactive data table.\n",
        "It can be enabled with:"
      ]
    },
    {
      "cell_type": "code",
      "execution_count": 0,
      "metadata": {
        "colab": {},
        "colab_type": "code",
        "id": "LMNA-vBHPyHz"
      },
      "outputs": [],
      "source": [
        "%load_ext google.colab.data_table"
      ]
    },
    {
      "cell_type": "markdown",
      "metadata": {
        "colab_type": "text",
        "id": "y7QuudxdP0jH"
      },
      "source": [
        "If you would prefer to return to the classic Pandas dataframe display, you can disable this by running:\n",
        "```python\n",
        "%unload_ext google.colab.data_table\n",
        "```"
      ]
    },
    {
      "cell_type": "markdown",
      "metadata": {
        "colab_type": "text",
        "id": "OHCBQv4uTCPc"
      },
      "source": [
        "# Use BigQuery via magics\n",
        "\n",
        "The `google.cloud.bigquery` library also includes a magic command which runs a query and either displays the result or saves it to a variable as a `DataFrame`."
      ]
    },
    {
      "cell_type": "markdown",
      "metadata": {
        "colab_type": "text",
        "id": "FLiE7Q0aPJzM"
      },
      "source": [
        "## as shown below, if after project if \"df\" is written, it turns the query into a pandas dataframe"
      ]
    },
    {
      "cell_type": "code",
      "execution_count": 0,
      "metadata": {
        "colab": {},
        "colab_type": "code",
        "id": "DMxOKQ3vJplj"
      },
      "outputs": [],
      "source": [
        "# %%bigquery --project yourprojectid\n",
        "\n",
        "%%bigquery --project isentropic-road-260315 df\n",
        "\n",
        "     SELECT\n",
        "        *\n",
        "        FROM\n",
        "        `bigquery-public-data.ml_datasets.census_adult_income`"
      ]
    },
    {
      "cell_type": "code",
      "execution_count": 0,
      "metadata": {
        "colab": {},
        "colab_type": "code",
        "id": "nfS5WsUiC00K"
      },
      "outputs": [],
      "source": [
        "# this is for the final print of results\n",
        "table= \"vargas_data_studies_US.census\""
      ]
    },
    {
      "cell_type": "code",
      "execution_count": 0,
      "metadata": {
        "colab": {},
        "colab_type": "code",
        "id": "QW5S8bz1Dq91"
      },
      "outputs": [],
      "source": [
        ""
      ]
    },
    {
      "cell_type": "markdown",
      "metadata": {
        "colab_type": "text",
        "id": "7NZ1W3WGD01_"
      },
      "source": [
        "# Useful links for classification\n",
        "\n",
        "- a very cool one https://developer.ibm.com/tutorials/learn-classification-algorithms-using-python-and-scikit-learn/\n",
        "\n",
        "- https://towardsdatascience.com/solving-a-simple-classification-problem-with-python-fruits-lovers-edition-d20ab6b071d2\n",
        "- https://developer.ibm.com/tutorials/learn-classification-algorithms-using-python-and-scikit-learn/\n",
        "- https://github.com/albertovpd/datamad1019/blob/lab-supervised-learning/module-3/lab-supervised-learning/your-code/main.ipynb\n",
        "- https://github.com/albertovpd/kaggle-competitions"
      ]
    },
    {
      "cell_type": "markdown",
      "metadata": {
        "colab_type": "text",
        "id": "lQDUnR--Otgh"
      },
      "source": [
        "# Save output in a variable `df`\n",
        "\n",
        "%%bigquery --project yourprojectid df \n",
        "SELECT \n",
        "  COUNT(*) as total_rows\n",
        "FROM `bigquery-public-data.samples.gsod`"
      ]
    },
    {
      "cell_type": "code",
      "execution_count": 5,
      "metadata": {
        "colab": {
          "base_uri": "https://localhost:8080/",
          "height": 191
        },
        "colab_type": "code",
        "id": "cLh05lDpJ4wj",
        "outputId": "ac0cb0b4-ded1-4cdc-cc07-49d7180a7ef1"
      },
      "outputs": [
        {
          "data": {
            "application/vnd.google.colaboratory.module+javascript": "\n      import \"https://ssl.gstatic.com/colaboratory/data_table/84ef27dae82052e3/data_table.js\";\n\n      window.createDataTable({\n        data: [[{\n            'v': 0,\n            'f': \"0\",\n        },\n{\n            'v': 39,\n            'f': \"39\",\n        },\n\" Private\",\n{\n            'v': 297847,\n            'f': \"297847\",\n        },\n\" 9th\",\n{\n            'v': 5,\n            'f': \"5\",\n        },\n\" Married-civ-spouse\",\n\" Other-service\",\n\" Wife\",\n\" Black\",\n\" Female\",\n{\n            'v': 3411,\n            'f': \"3411\",\n        },\n{\n            'v': 0,\n            'f': \"0\",\n        },\n{\n            'v': 34,\n            'f': \"34\",\n        },\n\" United-States\",\n\" <=50K\"],\n [{\n            'v': 1,\n            'f': \"1\",\n        },\n{\n            'v': 72,\n            'f': \"72\",\n        },\n\" Private\",\n{\n            'v': 74141,\n            'f': \"74141\",\n        },\n\" 9th\",\n{\n            'v': 5,\n            'f': \"5\",\n        },\n\" Married-civ-spouse\",\n\" Exec-managerial\",\n\" Wife\",\n\" Asian-Pac-Islander\",\n\" Female\",\n{\n            'v': 0,\n            'f': \"0\",\n        },\n{\n            'v': 0,\n            'f': \"0\",\n        },\n{\n            'v': 48,\n            'f': \"48\",\n        },\n\" United-States\",\n\" >50K\"],\n [{\n            'v': 2,\n            'f': \"2\",\n        },\n{\n            'v': 45,\n            'f': \"45\",\n        },\n\" Private\",\n{\n            'v': 178215,\n            'f': \"178215\",\n        },\n\" 9th\",\n{\n            'v': 5,\n            'f': \"5\",\n        },\n\" Married-civ-spouse\",\n\" Machine-op-inspct\",\n\" Wife\",\n\" White\",\n\" Female\",\n{\n            'v': 0,\n            'f': \"0\",\n        },\n{\n            'v': 0,\n            'f': \"0\",\n        },\n{\n            'v': 40,\n            'f': \"40\",\n        },\n\" United-States\",\n\" >50K\"],\n [{\n            'v': 3,\n            'f': \"3\",\n        },\n{\n            'v': 31,\n            'f': \"31\",\n        },\n\" Private\",\n{\n            'v': 86958,\n            'f': \"86958\",\n        },\n\" 9th\",\n{\n            'v': 5,\n            'f': \"5\",\n        },\n\" Married-civ-spouse\",\n\" Exec-managerial\",\n\" Wife\",\n\" White\",\n\" Female\",\n{\n            'v': 0,\n            'f': \"0\",\n        },\n{\n            'v': 0,\n            'f': \"0\",\n        },\n{\n            'v': 40,\n            'f': \"40\",\n        },\n\" United-States\",\n\" <=50K\"],\n [{\n            'v': 4,\n            'f': \"4\",\n        },\n{\n            'v': 55,\n            'f': \"55\",\n        },\n\" Private\",\n{\n            'v': 176012,\n            'f': \"176012\",\n        },\n\" 9th\",\n{\n            'v': 5,\n            'f': \"5\",\n        },\n\" Married-civ-spouse\",\n\" Tech-support\",\n\" Wife\",\n\" White\",\n\" Female\",\n{\n            'v': 0,\n            'f': \"0\",\n        },\n{\n            'v': 0,\n            'f': \"0\",\n        },\n{\n            'v': 23,\n            'f': \"23\",\n        },\n\" United-States\",\n\" <=50K\"]],\n        columns: [[\"number\", \"index\"], [\"number\", \"age\"], [\"string\", \"workclass\"], [\"number\", \"functional_weight\"], [\"string\", \"education\"], [\"number\", \"education_num\"], [\"string\", \"marital_status\"], [\"string\", \"occupation\"], [\"string\", \"relationship\"], [\"string\", \"race\"], [\"string\", \"sex\"], [\"number\", \"capital_gain\"], [\"number\", \"capital_loss\"], [\"number\", \"hours_per_week\"], [\"string\", \"native_country\"], [\"string\", \"income_bracket\"]],\n        columnOptions: [{\"width\": \"1px\", \"className\": \"index_column\"}],\n        rowsPerPage: 25,\n        helpUrl: \"https://colab.research.google.com/notebooks/data_table.ipynb\",\n        suppressOutputScrolling: true,\n      });\n    ",
            "text/html": [
              "<div>\n",
              "<style scoped>\n",
              "    .dataframe tbody tr th:only-of-type {\n",
              "        vertical-align: middle;\n",
              "    }\n",
              "\n",
              "    .dataframe tbody tr th {\n",
              "        vertical-align: top;\n",
              "    }\n",
              "\n",
              "    .dataframe thead th {\n",
              "        text-align: right;\n",
              "    }\n",
              "</style>\n",
              "<table border=\"1\" class=\"dataframe\">\n",
              "  <thead>\n",
              "    <tr style=\"text-align: right;\">\n",
              "      <th></th>\n",
              "      <th>age</th>\n",
              "      <th>workclass</th>\n",
              "      <th>functional_weight</th>\n",
              "      <th>education</th>\n",
              "      <th>education_num</th>\n",
              "      <th>marital_status</th>\n",
              "      <th>occupation</th>\n",
              "      <th>relationship</th>\n",
              "      <th>race</th>\n",
              "      <th>sex</th>\n",
              "      <th>capital_gain</th>\n",
              "      <th>capital_loss</th>\n",
              "      <th>hours_per_week</th>\n",
              "      <th>native_country</th>\n",
              "      <th>income_bracket</th>\n",
              "    </tr>\n",
              "  </thead>\n",
              "  <tbody>\n",
              "    <tr>\n",
              "      <th>0</th>\n",
              "      <td>39</td>\n",
              "      <td>Private</td>\n",
              "      <td>297847</td>\n",
              "      <td>9th</td>\n",
              "      <td>5</td>\n",
              "      <td>Married-civ-spouse</td>\n",
              "      <td>Other-service</td>\n",
              "      <td>Wife</td>\n",
              "      <td>Black</td>\n",
              "      <td>Female</td>\n",
              "      <td>3411</td>\n",
              "      <td>0</td>\n",
              "      <td>34</td>\n",
              "      <td>United-States</td>\n",
              "      <td>&lt;=50K</td>\n",
              "    </tr>\n",
              "    <tr>\n",
              "      <th>1</th>\n",
              "      <td>72</td>\n",
              "      <td>Private</td>\n",
              "      <td>74141</td>\n",
              "      <td>9th</td>\n",
              "      <td>5</td>\n",
              "      <td>Married-civ-spouse</td>\n",
              "      <td>Exec-managerial</td>\n",
              "      <td>Wife</td>\n",
              "      <td>Asian-Pac-Islander</td>\n",
              "      <td>Female</td>\n",
              "      <td>0</td>\n",
              "      <td>0</td>\n",
              "      <td>48</td>\n",
              "      <td>United-States</td>\n",
              "      <td>&gt;50K</td>\n",
              "    </tr>\n",
              "    <tr>\n",
              "      <th>2</th>\n",
              "      <td>45</td>\n",
              "      <td>Private</td>\n",
              "      <td>178215</td>\n",
              "      <td>9th</td>\n",
              "      <td>5</td>\n",
              "      <td>Married-civ-spouse</td>\n",
              "      <td>Machine-op-inspct</td>\n",
              "      <td>Wife</td>\n",
              "      <td>White</td>\n",
              "      <td>Female</td>\n",
              "      <td>0</td>\n",
              "      <td>0</td>\n",
              "      <td>40</td>\n",
              "      <td>United-States</td>\n",
              "      <td>&gt;50K</td>\n",
              "    </tr>\n",
              "    <tr>\n",
              "      <th>3</th>\n",
              "      <td>31</td>\n",
              "      <td>Private</td>\n",
              "      <td>86958</td>\n",
              "      <td>9th</td>\n",
              "      <td>5</td>\n",
              "      <td>Married-civ-spouse</td>\n",
              "      <td>Exec-managerial</td>\n",
              "      <td>Wife</td>\n",
              "      <td>White</td>\n",
              "      <td>Female</td>\n",
              "      <td>0</td>\n",
              "      <td>0</td>\n",
              "      <td>40</td>\n",
              "      <td>United-States</td>\n",
              "      <td>&lt;=50K</td>\n",
              "    </tr>\n",
              "    <tr>\n",
              "      <th>4</th>\n",
              "      <td>55</td>\n",
              "      <td>Private</td>\n",
              "      <td>176012</td>\n",
              "      <td>9th</td>\n",
              "      <td>5</td>\n",
              "      <td>Married-civ-spouse</td>\n",
              "      <td>Tech-support</td>\n",
              "      <td>Wife</td>\n",
              "      <td>White</td>\n",
              "      <td>Female</td>\n",
              "      <td>0</td>\n",
              "      <td>0</td>\n",
              "      <td>23</td>\n",
              "      <td>United-States</td>\n",
              "      <td>&lt;=50K</td>\n",
              "    </tr>\n",
              "  </tbody>\n",
              "</table>\n",
              "</div>"
            ],
            "text/plain": [
              "   age workclass  ...  native_country income_bracket\n",
              "0   39   Private  ...   United-States          <=50K\n",
              "1   72   Private  ...   United-States           >50K\n",
              "2   45   Private  ...   United-States           >50K\n",
              "3   31   Private  ...   United-States          <=50K\n",
              "4   55   Private  ...   United-States          <=50K\n",
              "\n",
              "[5 rows x 15 columns]"
            ]
          },
          "execution_count": 5,
          "metadata": {
            "tags": []
          },
          "output_type": "execute_result"
        }
      ],
      "source": [
        "df.head()"
      ]
    },
    {
      "cell_type": "code",
      "execution_count": 6,
      "metadata": {
        "colab": {
          "base_uri": "https://localhost:8080/",
          "height": 291
        },
        "colab_type": "code",
        "id": "cd-KH3VOtUcn",
        "outputId": "513e0f74-def5-4b6c-9633-53281492a79c"
      },
      "outputs": [
        {
          "data": {
            "text/plain": [
              "age                   int64\n",
              "workclass            object\n",
              "functional_weight     int64\n",
              "education            object\n",
              "education_num         int64\n",
              "marital_status       object\n",
              "occupation           object\n",
              "relationship         object\n",
              "race                 object\n",
              "sex                  object\n",
              "capital_gain          int64\n",
              "capital_loss          int64\n",
              "hours_per_week        int64\n",
              "native_country       object\n",
              "income_bracket       object\n",
              "dtype: object"
            ]
          },
          "execution_count": 6,
          "metadata": {
            "tags": []
          },
          "output_type": "execute_result"
        }
      ],
      "source": [
        "df.dtypes"
      ]
    },
    {
      "cell_type": "code",
      "execution_count": 0,
      "metadata": {
        "colab": {},
        "colab_type": "code",
        "id": "o9WJZ6G4tUZZ"
      },
      "outputs": [],
      "source": [
        "# we need to get rid of all object types\n",
        "# first, evaluate what columns are strongly correlated"
      ]
    },
    {
      "cell_type": "code",
      "execution_count": 0,
      "metadata": {
        "colab": {},
        "colab_type": "code",
        "id": "GYt4GRwltUVa"
      },
      "outputs": [],
      "source": [
        "import numpy as np\n",
        "import pandas as pd\n",
        "import matplotlib.pyplot as plt\n",
        "import seaborn as sns"
      ]
    },
    {
      "cell_type": "code",
      "execution_count": 9,
      "metadata": {
        "colab": {
          "base_uri": "https://localhost:8080/",
          "height": 347
        },
        "colab_type": "code",
        "id": "NFISPdUBtklb",
        "outputId": "ce176f6b-380e-4aa2-b4b7-3bdf796de10e"
      },
      "outputs": [
        {
          "data": {
            "text/plain": [
              "<matplotlib.axes._subplots.AxesSubplot at 0x7fc4b5b32e80>"
            ]
          },
          "execution_count": 9,
          "metadata": {
            "tags": []
          },
          "output_type": "execute_result"
        },
        {
          "data": {
            "image/png": "[encoded data removed]",
            "text/plain": [
              "<Figure size 432x288 with 2 Axes>"
            ]
          },
          "metadata": {
            "tags": []
          },
          "output_type": "display_data"
        }
      ],
      "source": [
        "# IMP! _get_numeric_data() is awesome\n",
        "\n",
        "corr = df._get_numeric_data().corr()\n",
        "# ------\n",
        "ax = sns.heatmap(\n",
        "    corr, \n",
        "    linewidths=.5\n",
        "    \n",
        "    #vmin=-1, vmax=1, center=0,\n",
        "    #cmap=sns.diverging_palette(20, 220, n=200),\n",
        "    #square=True\n",
        ")\n",
        "ax.set_xticklabels(\n",
        "    ax.get_xticklabels(),\n",
        "    rotation=45,\n",
        "    horizontalalignment='right'\n",
        ")\n",
        "sns.set(rc={'figure.figsize':(15,15)})\n",
        "ax"
      ]
    },
    {
      "cell_type": "code",
      "execution_count": 0,
      "metadata": {
        "colab": {},
        "colab_type": "code",
        "id": "qlHJQ2G6tk2X"
      },
      "outputs": [],
      "source": [
        "# remove column collinearity\n",
        "# # Note that you should remove as few columns as you can. You don't have to remove all the columns at once. But instead, try removing one column, then produce the heatmap \n",
        "# again to determine if additional columns should be removed. As long as the dataset no longer contains columns that are correlated for over 90%, you can stop. Also, keep \n",
        "# in mind when two columns have high collinearity, you only need to remove one of them but not both."
      ]
    },
    {
      "cell_type": "code",
      "execution_count": 11,
      "metadata": {
        "colab": {
          "base_uri": "https://localhost:8080/",
          "height": 291
        },
        "colab_type": "code",
        "id": "6A0sqrHqtkzr",
        "outputId": "d39552a3-fbed-4398-8a87-cbfe643dfec5"
      },
      "outputs": [
        {
          "data": {
            "text/plain": [
              "age                  0\n",
              "workclass            0\n",
              "functional_weight    0\n",
              "education            0\n",
              "education_num        0\n",
              "marital_status       0\n",
              "occupation           0\n",
              "relationship         0\n",
              "race                 0\n",
              "sex                  0\n",
              "capital_gain         0\n",
              "capital_loss         0\n",
              "hours_per_week       0\n",
              "native_country       0\n",
              "income_bracket       0\n",
              "dtype: int64"
            ]
          },
          "execution_count": 11,
          "metadata": {
            "tags": []
          },
          "output_type": "execute_result"
        }
      ],
      "source": [
        "# handle missing values\n",
        "df.isna().sum() # the less the better"
      ]
    },
    {
      "cell_type": "code",
      "execution_count": 0,
      "metadata": {
        "colab": {},
        "colab_type": "code",
        "id": "hqCZfYUh4L7o"
      },
      "outputs": [],
      "source": [
        "# TURNING CATEGORICAL DATA TO NUMERICAL"
      ]
    },
    {
      "cell_type": "code",
      "execution_count": 13,
      "metadata": {
        "colab": {
          "base_uri": "https://localhost:8080/",
          "height": 291
        },
        "colab_type": "code",
        "id": "LwJjUKYk4L4m",
        "outputId": "89147734-94f7-419a-a5bf-8c99f8c39b7a"
      },
      "outputs": [
        {
          "data": {
            "text/plain": [
              "age                   int64\n",
              "workclass            object\n",
              "functional_weight     int64\n",
              "education            object\n",
              "education_num         int64\n",
              "marital_status       object\n",
              "occupation           object\n",
              "relationship         object\n",
              "race                 object\n",
              "sex                  object\n",
              "capital_gain          int64\n",
              "capital_loss          int64\n",
              "hours_per_week        int64\n",
              "native_country       object\n",
              "income_bracket       object\n",
              "dtype: object"
            ]
          },
          "execution_count": 13,
          "metadata": {
            "tags": []
          },
          "output_type": "execute_result"
        }
      ],
      "source": [
        "df.dtypes"
      ]
    },
    {
      "cell_type": "code",
      "execution_count": 14,
      "metadata": {
        "colab": {
          "base_uri": "https://localhost:8080/",
          "height": 684
        },
        "colab_type": "code",
        "id": "qtpeY9r64y0x",
        "outputId": "a6616ff8-00b0-408d-e762-b59ebd093a62"
      },
      "outputs": [
        {
          "data": {
            "text/plain": [
              "'workclass'"
            ]
          },
          "metadata": {
            "tags": []
          },
          "output_type": "display_data"
        },
        {
          "data": {
            "text/plain": [
              "array([' Private', ' Self-emp-inc', ' Local-gov', ' ?',\n",
              "       ' Self-emp-not-inc', ' Federal-gov', ' State-gov', ' Without-pay',\n",
              "       ' Never-worked'], dtype=object)"
            ]
          },
          "metadata": {
            "tags": []
          },
          "output_type": "display_data"
        },
        {
          "data": {
            "text/plain": [
              "'education'"
            ]
          },
          "metadata": {
            "tags": []
          },
          "output_type": "display_data"
        },
        {
          "data": {
            "text/plain": [
              "array([' 9th', ' 10th', ' 11th', ' 12th', ' 1st-4th', ' 5th-6th',\n",
              "       ' 7th-8th', ' HS-grad', ' Masters', ' Assoc-voc', ' Bachelors',\n",
              "       ' Doctorate', ' Preschool', ' Assoc-acdm', ' Prof-school',\n",
              "       ' Some-college'], dtype=object)"
            ]
          },
          "metadata": {
            "tags": []
          },
          "output_type": "display_data"
        },
        {
          "data": {
            "text/plain": [
              "'marital_status'"
            ]
          },
          "metadata": {
            "tags": []
          },
          "output_type": "display_data"
        },
        {
          "data": {
            "text/plain": [
              "array([' Married-civ-spouse', ' Married-AF-spouse', ' Never-married',\n",
              "       ' Divorced', ' Separated', ' Married-spouse-absent', ' Widowed'],\n",
              "      dtype=object)"
            ]
          },
          "metadata": {
            "tags": []
          },
          "output_type": "display_data"
        },
        {
          "data": {
            "text/plain": [
              "'occupation'"
            ]
          },
          "metadata": {
            "tags": []
          },
          "output_type": "display_data"
        },
        {
          "data": {
            "text/plain": [
              "array([' Other-service', ' Exec-managerial', ' Machine-op-inspct',\n",
              "       ' Tech-support', ' Adm-clerical', ' ?', ' Farming-fishing',\n",
              "       ' Priv-house-serv', ' Sales', ' Protective-serv',\n",
              "       ' Transport-moving', ' Handlers-cleaners', ' Craft-repair',\n",
              "       ' Prof-specialty', ' Armed-Forces'], dtype=object)"
            ]
          },
          "metadata": {
            "tags": []
          },
          "output_type": "display_data"
        },
        {
          "data": {
            "text/plain": [
              "'relationship'"
            ]
          },
          "metadata": {
            "tags": []
          },
          "output_type": "display_data"
        },
        {
          "data": {
            "text/plain": [
              "array([' Wife', ' Husband', ' Own-child', ' Unmarried', ' Not-in-family',\n",
              "       ' Other-relative'], dtype=object)"
            ]
          },
          "metadata": {
            "tags": []
          },
          "output_type": "display_data"
        },
        {
          "data": {
            "text/plain": [
              "'race'"
            ]
          },
          "metadata": {
            "tags": []
          },
          "output_type": "display_data"
        },
        {
          "data": {
            "text/plain": [
              "array([' Black', ' Asian-Pac-Islander', ' White', ' Amer-Indian-Eskimo',\n",
              "       ' Other'], dtype=object)"
            ]
          },
          "metadata": {
            "tags": []
          },
          "output_type": "display_data"
        },
        {
          "data": {
            "text/plain": [
              "'sex'"
            ]
          },
          "metadata": {
            "tags": []
          },
          "output_type": "display_data"
        },
        {
          "data": {
            "text/plain": [
              "array([' Female', ' Male'], dtype=object)"
            ]
          },
          "metadata": {
            "tags": []
          },
          "output_type": "display_data"
        },
        {
          "data": {
            "text/plain": [
              "'native_country'"
            ]
          },
          "metadata": {
            "tags": []
          },
          "output_type": "display_data"
        },
        {
          "data": {
            "text/plain": [
              "array([' United-States', ' Portugal', ' Yugoslavia', ' Hong', ' Haiti',\n",
              "       ' Dominican-Republic', ' Mexico', ' Guatemala', ' Cuba', ' ?',\n",
              "       ' Japan', ' Laos', ' Philippines', ' Germany', ' Italy',\n",
              "       ' El-Salvador', ' Vietnam', ' Canada', ' Puerto-Rico', ' Honduras',\n",
              "       ' Jamaica', ' South', ' Trinadad&Tobago', ' Greece', ' Peru',\n",
              "       ' Iran', ' Columbia', ' Scotland', ' China', ' Nicaragua',\n",
              "       ' England', ' Poland', ' Outlying-US(Guam-USVI-etc)', ' Taiwan',\n",
              "       ' Hungary', ' India', ' Ecuador', ' Thailand', ' Cambodia',\n",
              "       ' France', ' Ireland', ' Holand-Netherlands'], dtype=object)"
            ]
          },
          "metadata": {
            "tags": []
          },
          "output_type": "display_data"
        },
        {
          "data": {
            "text/plain": [
              "'income_bracket'"
            ]
          },
          "metadata": {
            "tags": []
          },
          "output_type": "display_data"
        },
        {
          "data": {
            "text/plain": [
              "array([' <=50K', ' >50K'], dtype=object)"
            ]
          },
          "metadata": {
            "tags": []
          },
          "output_type": "display_data"
        }
      ],
      "source": [
        "for e in df.select_dtypes(include=['object']):\n",
        "      display(e,df[e].unique())"
      ]
    },
    {
      "cell_type": "code",
      "execution_count": 0,
      "metadata": {
        "colab": {},
        "colab_type": "code",
        "id": "sGFXABtGx9Lz"
      },
      "outputs": [],
      "source": [
        "\n",
        "# # convert to number based on frequency (high frequency - high number), this worked fine in the classification problem\n",
        "# for e in df.select_dtypes(include=['object']):\n",
        "#   labels = df[e].value_counts(ascending=True).index.tolist()\n",
        "#   codes = range(1,len(labels)+1)\n",
        "#   df[e].replace(labels,codes,inplace=True)\n"
      ]
    },
    {
      "cell_type": "code",
      "execution_count": 15,
      "metadata": {
        "colab": {
          "base_uri": "https://localhost:8080/",
          "height": 191
        },
        "colab_type": "code",
        "id": "n7_BJsQ4TbT3",
        "outputId": "5ff6b678-157c-410f-c324-08a69019567f"
      },
      "outputs": [
        {
          "data": {
            "application/vnd.google.colaboratory.module+javascript": "\n      import \"https://ssl.gstatic.com/colaboratory/data_table/84ef27dae82052e3/data_table.js\";\n\n      window.createDataTable({\n        data: [[{\n            'v': 0,\n            'f': \"0\",\n        },\n{\n            'v': 39,\n            'f': \"39\",\n        },\n{\n            'v': 4,\n            'f': \"4\",\n        },\n{\n            'v': 297847,\n            'f': \"297847\",\n        },\n{\n            'v': 6,\n            'f': \"6\",\n        },\n{\n            'v': 5,\n            'f': \"5\",\n        },\n{\n            'v': 2,\n            'f': \"2\",\n        },\n{\n            'v': 8,\n            'f': \"8\",\n        },\n{\n            'v': 5,\n            'f': \"5\",\n        },\n{\n            'v': 2,\n            'f': \"2\",\n        },\n{\n            'v': 0,\n            'f': \"0\",\n        },\n{\n            'v': 3411,\n            'f': \"3411\",\n        },\n{\n            'v': 0,\n            'f': \"0\",\n        },\n{\n            'v': 34,\n            'f': \"34\",\n        },\n{\n            'v': 39,\n            'f': \"39\",\n        },\n{\n            'v': 0,\n            'f': \"0\",\n        }],\n [{\n            'v': 1,\n            'f': \"1\",\n        },\n{\n            'v': 72,\n            'f': \"72\",\n        },\n{\n            'v': 4,\n            'f': \"4\",\n        },\n{\n            'v': 74141,\n            'f': \"74141\",\n        },\n{\n            'v': 6,\n            'f': \"6\",\n        },\n{\n            'v': 5,\n            'f': \"5\",\n        },\n{\n            'v': 2,\n            'f': \"2\",\n        },\n{\n            'v': 4,\n            'f': \"4\",\n        },\n{\n            'v': 5,\n            'f': \"5\",\n        },\n{\n            'v': 1,\n            'f': \"1\",\n        },\n{\n            'v': 0,\n            'f': \"0\",\n        },\n{\n            'v': 0,\n            'f': \"0\",\n        },\n{\n            'v': 0,\n            'f': \"0\",\n        },\n{\n            'v': 48,\n            'f': \"48\",\n        },\n{\n            'v': 39,\n            'f': \"39\",\n        },\n{\n            'v': 1,\n            'f': \"1\",\n        }],\n [{\n            'v': 2,\n            'f': \"2\",\n        },\n{\n            'v': 45,\n            'f': \"45\",\n        },\n{\n            'v': 4,\n            'f': \"4\",\n        },\n{\n            'v': 178215,\n            'f': \"178215\",\n        },\n{\n            'v': 6,\n            'f': \"6\",\n        },\n{\n            'v': 5,\n            'f': \"5\",\n        },\n{\n            'v': 2,\n            'f': \"2\",\n        },\n{\n            'v': 7,\n            'f': \"7\",\n        },\n{\n            'v': 5,\n            'f': \"5\",\n        },\n{\n            'v': 4,\n            'f': \"4\",\n        },\n{\n            'v': 0,\n            'f': \"0\",\n        },\n{\n            'v': 0,\n            'f': \"0\",\n        },\n{\n            'v': 0,\n            'f': \"0\",\n        },\n{\n            'v': 40,\n            'f': \"40\",\n        },\n{\n            'v': 39,\n            'f': \"39\",\n        },\n{\n            'v': 1,\n            'f': \"1\",\n        }],\n [{\n            'v': 3,\n            'f': \"3\",\n        },\n{\n            'v': 31,\n            'f': \"31\",\n        },\n{\n            'v': 4,\n            'f': \"4\",\n        },\n{\n            'v': 86958,\n            'f': \"86958\",\n        },\n{\n            'v': 6,\n            'f': \"6\",\n        },\n{\n            'v': 5,\n            'f': \"5\",\n        },\n{\n            'v': 2,\n            'f': \"2\",\n        },\n{\n            'v': 4,\n            'f': \"4\",\n        },\n{\n            'v': 5,\n            'f': \"5\",\n        },\n{\n            'v': 4,\n            'f': \"4\",\n        },\n{\n            'v': 0,\n            'f': \"0\",\n        },\n{\n            'v': 0,\n            'f': \"0\",\n        },\n{\n            'v': 0,\n            'f': \"0\",\n        },\n{\n            'v': 40,\n            'f': \"40\",\n        },\n{\n            'v': 39,\n            'f': \"39\",\n        },\n{\n            'v': 0,\n            'f': \"0\",\n        }],\n [{\n            'v': 4,\n            'f': \"4\",\n        },\n{\n            'v': 55,\n            'f': \"55\",\n        },\n{\n            'v': 4,\n            'f': \"4\",\n        },\n{\n            'v': 176012,\n            'f': \"176012\",\n        },\n{\n            'v': 6,\n            'f': \"6\",\n        },\n{\n            'v': 5,\n            'f': \"5\",\n        },\n{\n            'v': 2,\n            'f': \"2\",\n        },\n{\n            'v': 13,\n            'f': \"13\",\n        },\n{\n            'v': 5,\n            'f': \"5\",\n        },\n{\n            'v': 4,\n            'f': \"4\",\n        },\n{\n            'v': 0,\n            'f': \"0\",\n        },\n{\n            'v': 0,\n            'f': \"0\",\n        },\n{\n            'v': 0,\n            'f': \"0\",\n        },\n{\n            'v': 23,\n            'f': \"23\",\n        },\n{\n            'v': 39,\n            'f': \"39\",\n        },\n{\n            'v': 0,\n            'f': \"0\",\n        }]],\n        columns: [[\"number\", \"index\"], [\"number\", \"age\"], [\"number\", \"workclass\"], [\"number\", \"functional_weight\"], [\"number\", \"education\"], [\"number\", \"education_num\"], [\"number\", \"marital_status\"], [\"number\", \"occupation\"], [\"number\", \"relationship\"], [\"number\", \"race\"], [\"number\", \"sex\"], [\"number\", \"capital_gain\"], [\"number\", \"capital_loss\"], [\"number\", \"hours_per_week\"], [\"number\", \"native_country\"], [\"number\", \"income_bracket\"]],\n        columnOptions: [{\"width\": \"1px\", \"className\": \"index_column\"}],\n        rowsPerPage: 25,\n        helpUrl: \"https://colab.research.google.com/notebooks/data_table.ipynb\",\n        suppressOutputScrolling: true,\n      });\n    ",
            "text/html": [
              "<div>\n",
              "<style scoped>\n",
              "    .dataframe tbody tr th:only-of-type {\n",
              "        vertical-align: middle;\n",
              "    }\n",
              "\n",
              "    .dataframe tbody tr th {\n",
              "        vertical-align: top;\n",
              "    }\n",
              "\n",
              "    .dataframe thead th {\n",
              "        text-align: right;\n",
              "    }\n",
              "</style>\n",
              "<table border=\"1\" class=\"dataframe\">\n",
              "  <thead>\n",
              "    <tr style=\"text-align: right;\">\n",
              "      <th></th>\n",
              "      <th>age</th>\n",
              "      <th>workclass</th>\n",
              "      <th>functional_weight</th>\n",
              "      <th>education</th>\n",
              "      <th>education_num</th>\n",
              "      <th>marital_status</th>\n",
              "      <th>occupation</th>\n",
              "      <th>relationship</th>\n",
              "      <th>race</th>\n",
              "      <th>sex</th>\n",
              "      <th>capital_gain</th>\n",
              "      <th>capital_loss</th>\n",
              "      <th>hours_per_week</th>\n",
              "      <th>native_country</th>\n",
              "      <th>income_bracket</th>\n",
              "    </tr>\n",
              "  </thead>\n",
              "  <tbody>\n",
              "    <tr>\n",
              "      <th>0</th>\n",
              "      <td>39</td>\n",
              "      <td>4</td>\n",
              "      <td>297847</td>\n",
              "      <td>6</td>\n",
              "      <td>5</td>\n",
              "      <td>2</td>\n",
              "      <td>8</td>\n",
              "      <td>5</td>\n",
              "      <td>2</td>\n",
              "      <td>0</td>\n",
              "      <td>3411</td>\n",
              "      <td>0</td>\n",
              "      <td>34</td>\n",
              "      <td>39</td>\n",
              "      <td>0</td>\n",
              "    </tr>\n",
              "    <tr>\n",
              "      <th>1</th>\n",
              "      <td>72</td>\n",
              "      <td>4</td>\n",
              "      <td>74141</td>\n",
              "      <td>6</td>\n",
              "      <td>5</td>\n",
              "      <td>2</td>\n",
              "      <td>4</td>\n",
              "      <td>5</td>\n",
              "      <td>1</td>\n",
              "      <td>0</td>\n",
              "      <td>0</td>\n",
              "      <td>0</td>\n",
              "      <td>48</td>\n",
              "      <td>39</td>\n",
              "      <td>1</td>\n",
              "    </tr>\n",
              "    <tr>\n",
              "      <th>2</th>\n",
              "      <td>45</td>\n",
              "      <td>4</td>\n",
              "      <td>178215</td>\n",
              "      <td>6</td>\n",
              "      <td>5</td>\n",
              "      <td>2</td>\n",
              "      <td>7</td>\n",
              "      <td>5</td>\n",
              "      <td>4</td>\n",
              "      <td>0</td>\n",
              "      <td>0</td>\n",
              "      <td>0</td>\n",
              "      <td>40</td>\n",
              "      <td>39</td>\n",
              "      <td>1</td>\n",
              "    </tr>\n",
              "    <tr>\n",
              "      <th>3</th>\n",
              "      <td>31</td>\n",
              "      <td>4</td>\n",
              "      <td>86958</td>\n",
              "      <td>6</td>\n",
              "      <td>5</td>\n",
              "      <td>2</td>\n",
              "      <td>4</td>\n",
              "      <td>5</td>\n",
              "      <td>4</td>\n",
              "      <td>0</td>\n",
              "      <td>0</td>\n",
              "      <td>0</td>\n",
              "      <td>40</td>\n",
              "      <td>39</td>\n",
              "      <td>0</td>\n",
              "    </tr>\n",
              "    <tr>\n",
              "      <th>4</th>\n",
              "      <td>55</td>\n",
              "      <td>4</td>\n",
              "      <td>176012</td>\n",
              "      <td>6</td>\n",
              "      <td>5</td>\n",
              "      <td>2</td>\n",
              "      <td>13</td>\n",
              "      <td>5</td>\n",
              "      <td>4</td>\n",
              "      <td>0</td>\n",
              "      <td>0</td>\n",
              "      <td>0</td>\n",
              "      <td>23</td>\n",
              "      <td>39</td>\n",
              "      <td>0</td>\n",
              "    </tr>\n",
              "  </tbody>\n",
              "</table>\n",
              "</div>"
            ],
            "text/plain": [
              "   age  workclass  ...  native_country  income_bracket\n",
              "0   39          4  ...              39               0\n",
              "1   72          4  ...              39               1\n",
              "2   45          4  ...              39               1\n",
              "3   31          4  ...              39               0\n",
              "4   55          4  ...              39               0\n",
              "\n",
              "[5 rows x 15 columns]"
            ]
          },
          "execution_count": 15,
          "metadata": {
            "tags": []
          },
          "output_type": "execute_result"
        }
      ],
      "source": [
        "# convert from categorical to numerical with sklearn\n",
        "from sklearn import preprocessing\n",
        "# create the Labelencoder object\n",
        "le = preprocessing.LabelEncoder()\n",
        "#convert the categorical columns into numeric\n",
        "\n",
        "for e in df.select_dtypes(include=['object']):\n",
        "  df[e]=le.fit_transform(df[e])\n",
        "#display the initial records\n",
        "df.head()"
      ]
    },
    {
      "cell_type": "code",
      "execution_count": 16,
      "metadata": {
        "colab": {
          "base_uri": "https://localhost:8080/",
          "height": 291
        },
        "colab_type": "code",
        "id": "pFVn7cTmyFFg",
        "outputId": "34555789-0b13-45a5-ee73-1d221de463d8"
      },
      "outputs": [
        {
          "data": {
            "text/plain": [
              "age                  int64\n",
              "workclass            int64\n",
              "functional_weight    int64\n",
              "education            int64\n",
              "education_num        int64\n",
              "marital_status       int64\n",
              "occupation           int64\n",
              "relationship         int64\n",
              "race                 int64\n",
              "sex                  int64\n",
              "capital_gain         int64\n",
              "capital_loss         int64\n",
              "hours_per_week       int64\n",
              "native_country       int64\n",
              "income_bracket       int64\n",
              "dtype: object"
            ]
          },
          "execution_count": 16,
          "metadata": {
            "tags": []
          },
          "output_type": "execute_result"
        }
      ],
      "source": [
        "df.dtypes"
      ]
    },
    {
      "cell_type": "code",
      "execution_count": 0,
      "metadata": {
        "colab": {},
        "colab_type": "code",
        "id": "k28LW7Tc8GD9"
      },
      "outputs": [],
      "source": [
        "# awesome, all is numerical now"
      ]
    },
    {
      "cell_type": "code",
      "execution_count": 18,
      "metadata": {
        "colab": {
          "base_uri": "https://localhost:8080/",
          "height": 34
        },
        "colab_type": "code",
        "id": "f8P_TouF5GIB",
        "outputId": "b5a0b39b-f3bf-4b8f-8fa1-24551f83d880"
      },
      "outputs": [
        {
          "data": {
            "text/plain": [
              "(32561, 15)"
            ]
          },
          "execution_count": 18,
          "metadata": {
            "tags": []
          },
          "output_type": "execute_result"
        }
      ],
      "source": [
        "df.shape"
      ]
    },
    {
      "cell_type": "code",
      "execution_count": 19,
      "metadata": {
        "colab": {
          "base_uri": "https://localhost:8080/",
          "height": 291
        },
        "colab_type": "code",
        "id": "datsmwDx5MZo",
        "outputId": "4abb9d7f-7004-447d-a1b8-c008ddbfad02"
      },
      "outputs": [
        {
          "name": "stdout",
          "output_type": "stream",
          "text": [
            "age                      36.0\n",
            "workclass                 4.0\n",
            "functional_weight    263338.0\n",
            "education                10.0\n",
            "education_num             6.0\n",
            "marital_status            4.0\n",
            "occupation               11.0\n",
            "relationship              4.0\n",
            "race                      2.0\n",
            "sex                       1.0\n",
            "capital_gain              0.0\n",
            "capital_loss              0.0\n",
            "hours_per_week           31.0\n",
            "native_country            3.0\n",
            "income_bracket            1.0\n",
            "dtype: float64\n"
          ]
        }
      ],
      "source": [
        "# functions to remove outliers\n",
        "\n",
        "# OUTLIERS OUT TIME\n",
        "\n",
        "Q1 = df.quantile(0.1)\n",
        "Q3 = df.quantile(0.90)\n",
        "IQR = Q3 - Q1\n",
        "print(IQR)"
      ]
    },
    {
      "cell_type": "code",
      "execution_count": 20,
      "metadata": {
        "colab": {
          "base_uri": "https://localhost:8080/",
          "height": 34
        },
        "colab_type": "code",
        "id": "iQTJzIRx5KQ-",
        "outputId": "62969ae7-0f07-4578-bf01-da6bf600a489"
      },
      "outputs": [
        {
          "data": {
            "text/plain": [
              "(25647, 15)"
            ]
          },
          "execution_count": 20,
          "metadata": {
            "tags": []
          },
          "output_type": "execute_result"
        }
      ],
      "source": [
        "# removing outliers with The interquartile range (IQR)\n",
        "# https://towardsdatascience.com/ways-to-detect-and-remove-the-outliers-404d16608dba\n",
        "df = df[~((df < (Q1 - 1.5 * IQR)) |(df > (Q3 + 1.5 * IQR))).any(axis=1)]\n",
        "df.shape"
      ]
    },
    {
      "cell_type": "code",
      "execution_count": 0,
      "metadata": {
        "colab": {},
        "colab_type": "code",
        "id": "TRDePsQC5OOI"
      },
      "outputs": [],
      "source": [
        ""
      ]
    },
    {
      "cell_type": "code",
      "execution_count": 0,
      "metadata": {
        "colab": {},
        "colab_type": "code",
        "id": "BNnWXYXu8fT1"
      },
      "outputs": [],
      "source": [
        "# MACHINE LEARNING TIME"
      ]
    },
    {
      "cell_type": "code",
      "execution_count": 22,
      "metadata": {
        "colab": {
          "base_uri": "https://localhost:8080/",
          "height": 103
        },
        "colab_type": "code",
        "id": "uJ8ZFMGj8fRG",
        "outputId": "c8c54c94-7a42-41b7-e652-8ef9ae90e0cb"
      },
      "outputs": [
        {
          "data": {
            "text/plain": [
              "Index(['age', 'workclass', 'functional_weight', 'education', 'education_num',\n",
              "       'marital_status', 'occupation', 'relationship', 'race', 'sex',\n",
              "       'capital_gain', 'capital_loss', 'hours_per_week', 'native_country',\n",
              "       'income_bracket'],\n",
              "      dtype='object')"
            ]
          },
          "execution_count": 22,
          "metadata": {
            "tags": []
          },
          "output_type": "execute_result"
        }
      ],
      "source": [
        "# split dataframe\n",
        "df.columns"
      ]
    },
    {
      "cell_type": "code",
      "execution_count": 23,
      "metadata": {
        "colab": {
          "base_uri": "https://localhost:8080/",
          "height": 273
        },
        "colab_type": "code",
        "id": "JKUJL6w_tmgm",
        "outputId": "22290abb-bee8-4fc9-fc78-16e412cde2d7"
      },
      "outputs": [
        {
          "data": {
            "text/plain": [
              "['age',\n",
              " 'workclass',\n",
              " 'functional_weight',\n",
              " 'education',\n",
              " 'education_num',\n",
              " 'marital_status',\n",
              " 'occupation',\n",
              " 'relationship',\n",
              " 'race',\n",
              " 'sex',\n",
              " 'capital_gain',\n",
              " 'capital_loss',\n",
              " 'hours_per_week',\n",
              " 'native_country',\n",
              " 'income_bracket']"
            ]
          },
          "execution_count": 23,
          "metadata": {
            "tags": []
          },
          "output_type": "execute_result"
        }
      ],
      "source": [
        "list(df.columns)"
      ]
    },
    {
      "cell_type": "code",
      "execution_count": 0,
      "metadata": {
        "colab": {},
        "colab_type": "code",
        "id": "RPfbRkBs8fPR"
      },
      "outputs": [],
      "source": [
        "y=df['income_bracket']\n",
        "X=df[['age', 'workclass', 'functional_weight', 'education', 'education_num',\n",
        "       'marital_status', 'occupation', 'relationship', 'race', 'sex',\n",
        "       'capital_gain', 'capital_loss', 'hours_per_week', 'native_country']]"
      ]
    },
    {
      "cell_type": "code",
      "execution_count": 0,
      "metadata": {
        "colab": {},
        "colab_type": "code",
        "id": "SkB4XMBmNAuz"
      },
      "outputs": [],
      "source": [
        ""
      ]
    },
    {
      "cell_type": "code",
      "execution_count": 0,
      "metadata": {
        "colab": {},
        "colab_type": "code",
        "id": "jbzS2NoSHw6d"
      },
      "outputs": [],
      "source": [
        "# normalize and standarize the stuff\n",
        "from sklearn.preprocessing import Normalizer\n",
        "from sklearn.preprocessing import StandardScaler\n",
        "from sklearn.preprocessing import MinMaxScaler\n",
        "# printing metrics\n",
        "from sklearn.metrics import mean_absolute_error\n",
        "from sklearn.metrics import mean_squared_error\n",
        "from sklearn.metrics import r2_score\n",
        "from sklearn.metrics import accuracy_score, log_loss\n",
        "from sklearn.metrics import classification_report\n",
        "from sklearn.metrics import plot_roc_curve\n",
        "# dividing train/test/split\n",
        "from sklearn.model_selection import train_test_split\n",
        "# ml algorithms\n",
        "from sklearn.linear_model import LogisticRegression\n",
        "from sklearn.neighbors import KNeighborsClassifier\n",
        "from sklearn.naive_bayes import GaussianNB\n",
        "from sklearn.discriminant_analysis import LinearDiscriminantAnalysis\n",
        "from sklearn.svm import SVC, LinearSVC, NuSVC\n",
        "from sklearn.tree import DecisionTreeClassifier\n",
        "from sklearn.ensemble import RandomForestClassifier, AdaBoostClassifier, GradientBoostingClassifier\n",
        "from sklearn.discriminant_analysis import LinearDiscriminantAnalysis\n",
        "from sklearn.discriminant_analysis import QuadraticDiscriminantAnalysis"
      ]
    },
    {
      "cell_type": "code",
      "execution_count": 0,
      "metadata": {
        "colab": {},
        "colab_type": "code",
        "id": "0wyT1TIsHgnQ"
      },
      "outputs": [],
      "source": [
        ""
      ]
    },
    {
      "cell_type": "code",
      "execution_count": 0,
      "metadata": {
        "colab": {},
        "colab_type": "code",
        "id": "DGQ2yWum8fK3"
      },
      "outputs": [],
      "source": [
        "X_train, X_test, y_train, y_test = train_test_split(X, y, test_size=0.2)"
      ]
    },
    {
      "cell_type": "code",
      "execution_count": 0,
      "metadata": {
        "colab": {},
        "colab_type": "code",
        "id": "hA5lgaO9yG9K"
      },
      "outputs": [],
      "source": [
        "# # standarizing\n",
        "#scaler = MinMaxScaler()\n",
        "scaler =StandardScaler()\n",
        "X_train = scaler.fit_transform(X_train)\n",
        "X_test = scaler.transform(X_test)\n",
        "\n",
        "\n",
        "# sc = StandardScaler()\n",
        "# X_train = sc.fit_transform(X_train)"
      ]
    },
    {
      "cell_type": "code",
      "execution_count": 0,
      "metadata": {
        "colab": {},
        "colab_type": "code",
        "id": "xslqwUGCyGuI"
      },
      "outputs": [],
      "source": [
        "algo_dict={\n",
        "          \"KNeighbors Classifier\": KNeighborsClassifier(n_neighbors=5).fit(X_train, y_train),\n",
        "           \"Gaussian Naive Bayes\": GaussianNB().fit(X_train, y_train),\n",
        "           \"Logistic Regression\": LogisticRegression().fit(X_train, y_train),\n",
        "           \"Decision Tree\": DecisionTreeClassifier().fit(X_train, y_train),\n",
        "           \"Linear Discriminant Analysis\": LinearDiscriminantAnalysis().fit(X_train, y_train),\n",
        "           \"Support Vector Machine\": SVC().fit(X_train, y_train),\n",
        "           \"Decision Tree Clasifier\": DecisionTreeClassifier().fit(X_train, y_train),\n",
        "           #\"Nu Support Vector Machine\": NuSVC(probability=True),\n",
        "           \"Random Forest Classifier\": RandomForestClassifier().fit(X_train, y_train), \n",
        "           \"Ada Boost Classifier\": AdaBoostClassifier().fit(X_train, y_train),\n",
        "           \"Gradient Boosting Classifier\": GradientBoostingClassifier().fit(X_train, y_train),  \n",
        "           \"Linear Discriminant Analysis\": LinearDiscriminantAnalysis().fit(X_train, y_train)\n",
        "           \n",
        "      \n",
        "          }"
      ]
    },
    {
      "cell_type": "code",
      "execution_count": 0,
      "metadata": {
        "colab": {},
        "colab_type": "code",
        "id": "q0mkl2yxHZij"
      },
      "outputs": [],
      "source": [
        "\n",
        "# funtion to plot metrics\n",
        "def results_algo(dictio,X_test,y_test):\n",
        "    \n",
        "    '''it receives a dicitonary with name and \n",
        "    features of the model '''\n",
        "    target_names=[\"income_bracket\"]\n",
        "    print(\" - Precision – Accuracy of positive predictions.\")\n",
        "    print(\" - Precision = TP/(TP + FP)\")\n",
        "    print(\"\")\n",
        "    print(\" - Recall: Fraction of positives that were correctly identified.\")\n",
        "    print(\" - Recall = TP/(TP+FN)\")\n",
        "    print(\"\")\n",
        "    print(\" - F1 score – What percent of positive predictions were correct?\",\"\\n\",\n",
        "          \"The F1 score is a weighted harmonic mean of precision and recall such that the best score is 1.0 and the worst is 0.0.\",\"\\n\", \n",
        "          \"Generally speaking, F1 scores are lower than accuracy measures as they embed precision and recall into their computation.\",\"\\n\",\n",
        "          \"As a rule of thumb, the weighted average of F1 should be used to compare classifier models, not global accuracy.\")\n",
        "    print(\" - F1 Score = 2*(Recall * Precision) / (Recall + Precision)\")\n",
        "    print(\"\")\n",
        "    print(\" - Accuracy Score: The set of labels predicted for a sample must exactly match the corresponding set of labels in y_true .\")\n",
        "    print(\"\")\n",
        "    print(\"---------------\")\n",
        "\n",
        "    for n,e in dictio.items():\n",
        "        score=e.score(X_test,y_test)\n",
        "        prediction = e.predict(X_test)\n",
        "        print(\"\\n\",n,\"\\n\")\n",
        "        print(table)\n",
        "        #print(\"Mean Absolute Error:             \",mean_absolute_error(y_test, prediction)) \n",
        "        #print(\"Root mean Squared Error is:      \",mean_squared_error(y_test, prediction)**0.5)\n",
        "        #print(\"R2 square value:                 \",r2_score(y_test, prediction))\n",
        "        print(\"Accuracy Score:                  \",accuracy_score(y_test, prediction))\n",
        "        #is the same than accuracy score print(\"Model Score in test:             \",e.fit(X_train, y_train).score(X_test, y_test))\n",
        "        print(\"Classification report:\")\n",
        "        print(classification_report(y_test, prediction))\n",
        "        print(\"\")\n",
        "        svc_disp = plot_roc_curve(e, X_test, y_test)\n",
        "        plt.rcParams[\"figure.figsize\"] = [8,8]\n",
        "        plt.show()\n",
        "        print(\"---------------\")\n",
        "\n",
        "# plt.figure(figsize= (6, 6))\n",
        "# plt.title(n)a\n",
        "# sns.regplot(prediction, y_test)\n",
        "# plt.xlabel('Predicted Income Bracket')\n",
        "# plt.ylabel('Actual Income Bracket')\n",
        "#  plt.show()\n",
        "        \n"
      ]
    },
    {
      "cell_type": "code",
      "execution_count": 30,
      "metadata": {
        "colab": {
          "base_uri": "https://localhost:8080/",
          "height": 1000
        },
        "colab_type": "code",
        "id": "YTB6BgJZIeXg",
        "outputId": "fb821b94-4b07-4ba1-daff-d5f65236118d"
      },
      "outputs": [
        {
          "name": "stdout",
          "output_type": "stream",
          "text": [
            " - Precision – Accuracy of positive predictions.\n",
            " - Precision = TP/(TP + FP)\n",
            "\n",
            " - Recall: Fraction of positives that were correctly identified.\n",
            " - Recall = TP/(TP+FN)\n",
            "\n",
            " - F1 score – What percent of positive predictions were correct? \n",
            " The F1 score is a weighted harmonic mean of precision and recall such that the best score is 1.0 and the worst is 0.0. \n",
            " Generally speaking, F1 scores are lower than accuracy measures as they embed precision and recall into their computation. \n",
            " As a rule of thumb, the weighted average of F1 should be used to compare classifier models, not global accuracy.\n",
            " - F1 Score = 2*(Recall * Precision) / (Recall + Precision)\n",
            "\n",
            " - Accuracy Score: The set of labels predicted for a sample must exactly match the corresponding set of labels in y_true .\n",
            "\n",
            "---------------\n",
            "\n",
            " KNeighbors Classifier \n",
            "\n",
            "vargas_data_studies_US.census\n",
            "Accuracy Score:                   0.8348927875243665\n",
            "Classification report:\n",
            "              precision    recall  f1-score   support\n",
            "\n",
            "           0       0.88      0.92      0.90      4117\n",
            "           1       0.60      0.49      0.54      1013\n",
            "\n",
            "    accuracy                           0.83      5130\n",
            "   macro avg       0.74      0.71      0.72      5130\n",
            "weighted avg       0.82      0.83      0.83      5130\n",
            "\n",
            "\n"
          ]
        },
        {
          "data": {
            "image/png": "[encoded data removed]",
            "text/plain": [
              "<Figure size 1080x1080 with 1 Axes>"
            ]
          },
          "metadata": {
            "tags": []
          },
          "output_type": "display_data"
        },
        {
          "name": "stdout",
          "output_type": "stream",
          "text": [
            "---------------\n",
            "\n",
            " Gaussian Naive Bayes \n",
            "\n",
            "vargas_data_studies_US.census\n",
            "Accuracy Score:                   0.7842105263157895\n",
            "Classification report:\n",
            "              precision    recall  f1-score   support\n",
            "\n",
            "           0       0.92      0.80      0.86      4117\n",
            "           1       0.47      0.72      0.57      1013\n",
            "\n",
            "    accuracy                           0.78      5130\n",
            "   macro avg       0.69      0.76      0.71      5130\n",
            "weighted avg       0.83      0.78      0.80      5130\n",
            "\n",
            "\n"
          ]
        },
        {
          "data": {
            "image/png": "[encoded data removed]",
            "text/plain": [
              "<Figure size 576x576 with 1 Axes>"
            ]
          },
          "metadata": {
            "tags": []
          },
          "output_type": "display_data"
        },
        {
          "name": "stdout",
          "output_type": "stream",
          "text": [
            "---------------\n",
            "\n",
            " Logistic Regression \n",
            "\n",
            "vargas_data_studies_US.census\n",
            "Accuracy Score:                   0.8249512670565302\n",
            "Classification report:\n",
            "              precision    recall  f1-score   support\n",
            "\n",
            "           0       0.84      0.96      0.90      4117\n",
            "           1       0.63      0.28      0.39      1013\n",
            "\n",
            "    accuracy                           0.82      5130\n",
            "   macro avg       0.74      0.62      0.64      5130\n",
            "weighted avg       0.80      0.82      0.80      5130\n",
            "\n",
            "\n"
          ]
        },
        {
          "data": {
            "image/png": "[encoded data removed]",
            "text/plain": [
              "<Figure size 576x576 with 1 Axes>"
            ]
          },
          "metadata": {
            "tags": []
          },
          "output_type": "display_data"
        },
        {
          "name": "stdout",
          "output_type": "stream",
          "text": [
            "---------------\n",
            "\n",
            " Decision Tree \n",
            "\n",
            "vargas_data_studies_US.census\n",
            "Accuracy Score:                   0.8038986354775829\n",
            "Classification report:\n",
            "              precision    recall  f1-score   support\n",
            "\n",
            "           0       0.88      0.88      0.88      4117\n",
            "           1       0.50      0.49      0.50      1013\n",
            "\n",
            "    accuracy                           0.80      5130\n",
            "   macro avg       0.69      0.69      0.69      5130\n",
            "weighted avg       0.80      0.80      0.80      5130\n",
            "\n",
            "\n"
          ]
        },
        {
          "data": {
            "image/png": "[encoded data removed]",
            "text/plain": [
              "<Figure size 576x576 with 1 Axes>"
            ]
          },
          "metadata": {
            "tags": []
          },
          "output_type": "display_data"
        },
        {
          "name": "stdout",
          "output_type": "stream",
          "text": [
            "---------------\n",
            "\n",
            " Linear Discriminant Analysis \n",
            "\n",
            "vargas_data_studies_US.census\n",
            "Accuracy Score:                   0.8267056530214425\n",
            "Classification report:\n",
            "              precision    recall  f1-score   support\n",
            "\n",
            "           0       0.85      0.96      0.90      4117\n",
            "           1       0.63      0.29      0.40      1013\n",
            "\n",
            "    accuracy                           0.83      5130\n",
            "   macro avg       0.74      0.62      0.65      5130\n",
            "weighted avg       0.80      0.83      0.80      5130\n",
            "\n",
            "\n"
          ]
        },
        {
          "data": {
            "image/png": "[encoded data removed]",
            "text/plain": [
              "<Figure size 576x576 with 1 Axes>"
            ]
          },
          "metadata": {
            "tags": []
          },
          "output_type": "display_data"
        },
        {
          "name": "stdout",
          "output_type": "stream",
          "text": [
            "---------------\n",
            "\n",
            " Support Vector Machine \n",
            "\n",
            "vargas_data_studies_US.census\n",
            "Accuracy Score:                   0.8485380116959065\n",
            "Classification report:\n",
            "              precision    recall  f1-score   support\n",
            "\n",
            "           0       0.86      0.96      0.91      4117\n",
            "           1       0.72      0.38      0.50      1013\n",
            "\n",
            "    accuracy                           0.85      5130\n",
            "   macro avg       0.79      0.67      0.70      5130\n",
            "weighted avg       0.84      0.85      0.83      5130\n",
            "\n",
            "\n"
          ]
        },
        {
          "data": {
            "image/png": "[encoded data removed]",
            "text/plain": [
              "<Figure size 576x576 with 1 Axes>"
            ]
          },
          "metadata": {
            "tags": []
          },
          "output_type": "display_data"
        },
        {
          "name": "stdout",
          "output_type": "stream",
          "text": [
            "---------------\n",
            "\n",
            " Decision Tree Clasifier \n",
            "\n",
            "vargas_data_studies_US.census\n",
            "Accuracy Score:                   0.8033138401559454\n",
            "Classification report:\n",
            "              precision    recall  f1-score   support\n",
            "\n",
            "           0       0.87      0.88      0.88      4117\n",
            "           1       0.50      0.49      0.49      1013\n",
            "\n",
            "    accuracy                           0.80      5130\n",
            "   macro avg       0.69      0.68      0.69      5130\n",
            "weighted avg       0.80      0.80      0.80      5130\n",
            "\n",
            "\n"
          ]
        },
        {
          "data": {
            "image/png": "[encoded data removed]",
            "text/plain": [
              "<Figure size 576x576 with 1 Axes>"
            ]
          },
          "metadata": {
            "tags": []
          },
          "output_type": "display_data"
        },
        {
          "name": "stdout",
          "output_type": "stream",
          "text": [
            "---------------\n",
            "\n",
            " Random Forest Classifier \n",
            "\n",
            "vargas_data_studies_US.census\n",
            "Accuracy Score:                   0.8442495126705652\n",
            "Classification report:\n",
            "              precision    recall  f1-score   support\n",
            "\n",
            "           0       0.88      0.93      0.91      4117\n",
            "           1       0.64      0.49      0.55      1013\n",
            "\n",
            "    accuracy                           0.84      5130\n",
            "   macro avg       0.76      0.71      0.73      5130\n",
            "weighted avg       0.83      0.84      0.84      5130\n",
            "\n",
            "\n"
          ]
        },
        {
          "data": {
            "image/png": "[encoded data removed]",
            "text/plain": [
              "<Figure size 576x576 with 1 Axes>"
            ]
          },
          "metadata": {
            "tags": []
          },
          "output_type": "display_data"
        },
        {
          "name": "stdout",
          "output_type": "stream",
          "text": [
            "---------------\n",
            "\n",
            " Ada Boost Classifier \n",
            "\n",
            "vargas_data_studies_US.census\n",
            "Accuracy Score:                   0.8526315789473684\n",
            "Classification report:\n",
            "              precision    recall  f1-score   support\n",
            "\n",
            "           0       0.88      0.95      0.91      4117\n",
            "           1       0.68      0.47      0.56      1013\n",
            "\n",
            "    accuracy                           0.85      5130\n",
            "   macro avg       0.78      0.71      0.73      5130\n",
            "weighted avg       0.84      0.85      0.84      5130\n",
            "\n",
            "\n"
          ]
        },
        {
          "data": {
            "image/png": "[encoded data removed]",
            "text/plain": [
              "<Figure size 576x576 with 1 Axes>"
            ]
          },
          "metadata": {
            "tags": []
          },
          "output_type": "display_data"
        },
        {
          "name": "stdout",
          "output_type": "stream",
          "text": [
            "---------------\n",
            "\n",
            " Gradient Boosting Classifier \n",
            "\n",
            "vargas_data_studies_US.census\n",
            "Accuracy Score:                   0.8539961013645224\n",
            "Classification report:\n",
            "              precision    recall  f1-score   support\n",
            "\n",
            "           0       0.88      0.95      0.91      4117\n",
            "           1       0.70      0.46      0.55      1013\n",
            "\n",
            "    accuracy                           0.85      5130\n",
            "   macro avg       0.79      0.70      0.73      5130\n",
            "weighted avg       0.84      0.85      0.84      5130\n",
            "\n",
            "\n"
          ]
        },
        {
          "data": {
            "image/png": "[encoded data removed]",
            "text/plain": [
              "<Figure size 576x576 with 1 Axes>"
            ]
          },
          "metadata": {
            "tags": []
          },
          "output_type": "display_data"
        },
        {
          "name": "stdout",
          "output_type": "stream",
          "text": [
            "---------------\n"
          ]
        }
      ],
      "source": [
        "results_algo(algo_dict,X_test,y_test)"
      ]
    },
    {
      "cell_type": "code",
      "execution_count": 0,
      "metadata": {
        "colab": {},
        "colab_type": "code",
        "id": "nj8052KUVsd5"
      },
      "outputs": [],
      "source": [
        "#-- Hyperparameter optimisation --\n",
        "#Now we take the best model and work with it\n",
        "# (it can take a lot of time)"
      ]
    },
    {
      "cell_type": "code",
      "execution_count": 0,
      "metadata": {
        "colab": {},
        "colab_type": "code",
        "id": "Z20g7wB5Ai3N"
      },
      "outputs": [],
      "source": [
        "from sklearn.model_selection import GridSearchCV\n",
        "# parameters to tune\n",
        "n_estimators = [100, 800, 1200]\n",
        "max_depth = [5, 8, 15, 25, 30]\n",
        "min_samples_split = [2, 5, 10, 15, 100]\n",
        "min_samples_leaf = [1, 2, 5, 10]\n",
        "param_grid = dict(n_estimators = n_estimators, max_depth = max_depth,  \n",
        "              min_samples_split = min_samples_split, \n",
        "             min_samples_leaf = min_samples_leaf)\n",
        "# last best model\n",
        "gb = GradientBoostingClassifier()\n",
        "# gidsearch\n",
        "grid_search = GridSearchCV(estimator=gb, param_grid=param_grid)\n",
        "best_model = grid_search.fit(X_train, y_train)\n",
        "# results\n",
        "print(round(best_model.score(X_test, y_test),2))\n",
        "print(best_model.best_params_)\n",
        "svc_disp = plot_roc_curve(e, X_test, y_test)\n",
        "plt.rcParams[\"figure.figsize\"] = [8,8]\n",
        "plt.show()"
      ]
    },
    {
      "cell_type": "code",
      "execution_count": 0,
      "metadata": {
        "colab": {},
        "colab_type": "code",
        "id": "BKXWaeW0UkER"
      },
      "outputs": [],
      "source": [
        ""
      ]
    }
  ]
}